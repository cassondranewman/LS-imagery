{
 "cells": [
  {
   "attachments": {},
   "cell_type": "markdown",
   "id": "f3bb3af2",
   "metadata": {},
   "source": [
    "## Calculate VIs "
   ]
  },
  {
   "attachments": {},
   "cell_type": "markdown",
   "id": "98fa3919",
   "metadata": {},
   "source": [
    "## Load Packages and Data"
   ]
  },
  {
   "cell_type": "code",
   "execution_count": 1,
   "id": "9c7449fb",
   "metadata": {},
   "outputs": [],
   "source": [
    "##REQ\n",
    "\n",
    "## Set Up Environment \n",
    "import os\n",
    "import numpy as np\n",
    "from numpy import mean\n",
    "from numpy import std\n",
    "import pandas as pd"
   ]
  },
  {
   "cell_type": "code",
   "execution_count": 2,
   "id": "cbdf76e4",
   "metadata": {},
   "outputs": [],
   "source": [
    "##REQ\n",
    "\n",
    "# Load Data\n",
    "os.chdir(r\"C:\\Users\\csnewma2\\Desktop\\script2\") \n",
    "\n",
    "BioMaster = pd.read_csv(\"0_full_step1out.tsv\", sep='\\t') \n",
    "BioMaster.head(5) \n",
    "\n",
    "# Remove the Bailey II enteries (because It is incorrect to duplcated BaileyIIclone data)\n",
    "BioMaster=BioMaster[BioMaster['NC_Accession'] != 'BaileyII' ]\n"
   ]
  },
  {
   "attachments": {},
   "cell_type": "markdown",
   "id": "64a8143f",
   "metadata": {},
   "source": [
    "## Vegetation Indices (ie feature combinations)"
   ]
  },
  {
   "cell_type": "code",
   "execution_count": 3,
   "id": "ec362ecf",
   "metadata": {},
   "outputs": [],
   "source": [
    "#NDVI\n",
    "#chose 842 and 668 because of rank change\n",
    "BioMaster[\"NDVI\"]=(BioMaster[\"RD_LMA_A57_842\"]-BioMaster[\"RD_LMA_A14_668\"])/(BioMaster[\"RD_LMA_A57_842\"]+BioMaster[\"RD_LMA_A14_668\"]) \n",
    "\n",
    "#NDRE\n",
    "#chose 842 and 717 because 717 is less correlated with 842 than 740 is\n",
    "BioMaster[\"NDRE\"]=(BioMaster[\"RD_LMA_A57_842\"]-BioMaster[\"RD_LMA_A12_717\"])/(BioMaster[\"RD_LMA_A57_842\"]+BioMaster[\"RD_LMA_A12_717\"])\n",
    "\n",
    "#SAVI\n",
    "#chose 842 and 668 because of rank change\n",
    "BioMaster[\"SAVI\"]=(1.5*(BioMaster[\"RD_LMA_A57_842\"]-BioMaster[\"RD_LMA_A14_668\"]))/(BioMaster[\"RD_LMA_A57_842\"]+BioMaster[\"RD_LMA_A14_668\"]+0.5)\n",
    "\n",
    "#DVI\n",
    "#chose 842 and 668 because of rank change\n",
    "BioMaster[\"DVI\"]=BioMaster[\"RD_LMA_A57_842\"]-BioMaster[\"RD_LMA_A14_668\"]\n",
    "\n",
    "#EVI\n",
    "#incorporates the blue band\n",
    "BioMaster[\"EVI\"]=(2.5*(BioMaster[\"RD_LMA_A57_842\"]-BioMaster[\"RD_LMA_A14_668\"]))/(BioMaster[\"RD_LMA_A57_842\"]+6*BioMaster[\"RD_LMA_A14_668\"]-7.5*BioMaster[\"RD_LMA_A32_475\"] +1)\n",
    "\n",
    "#SRPI\n",
    "#incorporates the 444 blue band\n",
    "BioMaster[\"SRPI\"]=BioMaster[\"RD_LMA_B28_444\"]/(BioMaster[\"RD_LMA_A14_668\"])\n",
    "\n",
    "#RARSa\n",
    "#uses 705 which was not shown as 'important'\n",
    "BioMaster[\"RARSa\"]=BioMaster[\"RD_LMA_A14_668\"]/BioMaster[\"RD_LMA_B10_705\"]\n",
    "\n",
    "#MCARI\n",
    "#going as close as I can to equation\n",
    "BioMaster[\"MCARI\"]=((BioMaster[\"RD_LMA_B10_705\"] - BioMaster[\"RD_LMA_A14_668\"]) - (0.2*(BioMaster[\"RD_LMA_B10_705\"]- BioMaster[\"RD_LMA_A27_560\"])))*(BioMaster[\"RD_LMA_B10_705\"]/BioMaster[\"RD_LMA_A14_668\"])\n",
    "\n",
    "#MTVI-1\n",
    "#going as close as I can to equation\n",
    "BioMaster[\"MTVI-1\"]= 1.2*(1.2 *(BioMaster[\"RD_LMA_A57_842\"]-BioMaster[\"RD_LMA_A27_560\"]) - 2.5*(BioMaster[\"RD_LMA_A14_668\"]-BioMaster[\"RD_LMA_A27_560\"]))\n",
    "\n",
    "#TVI\n",
    "#going as close as I can to equation\n",
    "BioMaster[\"TVI\"]=0.5 * (120 * (BioMaster[\"RD_LMA_B18_740\"]-BioMaster[\"RD_LMA_A27_560\"])-200*(BioMaster[\"RD_LMA_A14_668\"]-BioMaster[\"RD_LMA_A27_560\"]))\n",
    "\n",
    "#PSSRb\n",
    "#going as close as I can to equation\n",
    "BioMaster[\"PSSRb\"]=BioMaster[\"RD_LMA_A57_842\"]/BioMaster[\"RD_LMA_B16_650\"]\n",
    "\n",
    "#VARI\n",
    "#RGB, uses all 3 bands\n",
    "BioMaster[\"VARI\"] = (BioMaster[\"RGB_LMA_G\"]-BioMaster[\"RGB_LMA_R\"])/(BioMaster[\"RGB_LMA_G\"]+BioMaster[\"RGB_LMA_R\"]-BioMaster[\"RGB_LMA_B\"])\n",
    "\n",
    "#CN1\n",
    "#wanted to use 'most important' rgb fts alone\n",
    "BioMaster[\"CN1\"] = (BioMaster[\"RGB_LMA_B\"]-BioMaster[\"RGB_LMA_R\"])/(BioMaster[\"RGB_LMA_B\"]+BioMaster[\"RGB_LMA_R\"])\n",
    "\n",
    "#CN2\n",
    "#wanted to use 'most important' rgb fts alone\n",
    "BioMaster[\"CN2\"] = BioMaster[\"RGB_LMA_B\"]/BioMaster[\"RGB_LMA_R\"]"
   ]
  },
  {
   "cell_type": "code",
   "execution_count": 4,
   "id": "efdc0692",
   "metadata": {},
   "outputs": [
    {
     "name": "stdout",
     "output_type": "stream",
     "text": [
      "      UNIQ_ID  location  year NC_Accession  PBGID  LastRate_DAP  VisualStand  \\\n",
      "0     LS00162         1  2021       20IL-1   1162           159           42   \n",
      "1     LS00464         1  2021       20IL-1   2199           159           50   \n",
      "2     LS00779         1  2022       20IL-1   1249           162           54   \n",
      "3     LS00808         1  2022       20IL-1   2013           162           56   \n",
      "4     LS01108         2  2021       20IL-1   1048           168           53   \n",
      "...       ...       ...   ...          ...    ...           ...          ...   \n",
      "2114  LS00817         1  2022        Wynne   2022           162           35   \n",
      "2115  LS01125         2  2021        Wynne   1065           168           32   \n",
      "2116  LS01329         2  2021        Wynne   2004           168           35   \n",
      "2117  LS01623         2  2022        Wynne   1033           155           50   \n",
      "2118  LS02097         2  2022        Wynne   2242           155           49   \n",
      "\n",
      "      RGBFirstArea  RGBLastArea  RGB_Defol  ...     MCARI    MTVI-1  \\\n",
      "0        98.641577    89.862692   8.899782  ...  0.293275  0.590719   \n",
      "1        98.508733    91.982370   6.625162  ...  0.337996  0.727442   \n",
      "2        94.978151    58.271181  38.647804  ...  0.105610  0.280428   \n",
      "3        96.990722    63.030886  35.013489  ...  0.122701  0.315542   \n",
      "4        98.989718    74.552991  24.686127  ...  0.213707  0.517088   \n",
      "...            ...          ...        ...  ...       ...       ...   \n",
      "2114     96.373564    47.717914  50.486511  ...  0.091856  0.255167   \n",
      "2115     98.206937    68.094276  30.662458  ...  0.158041  0.417489   \n",
      "2116     99.360069    70.284959  29.262369  ...  0.207486  0.462064   \n",
      "2117     98.389167    56.295716  42.782607  ...  0.152932  0.315782   \n",
      "2118     96.590500    88.771869   8.094617  ...  0.365927  0.542952   \n",
      "\n",
      "            TVI      PSSRb      VARI       CN1       CN2  location_name  \\\n",
      "0     18.415764  10.264124  0.079944 -0.181202  0.693191           PBRS   \n",
      "1     22.262173  17.109816  0.120554 -0.143585  0.748886           PBRS   \n",
      "2      8.486790   4.149276  0.012777 -0.134700  0.762580           PBRS   \n",
      "3      9.767718   5.066232  0.025789 -0.127332  0.774100           PBRS   \n",
      "4     15.709669  11.029258  0.065534 -0.106619  0.807307          UCPRS   \n",
      "...         ...        ...       ...       ...       ...            ...   \n",
      "2114   7.752875   3.692392 -0.007145 -0.126060  0.776104           PBRS   \n",
      "2115  12.633557   7.409528  0.024104 -0.138545  0.756628          UCPRS   \n",
      "2116  14.177874   7.807369  0.029475 -0.139316  0.755439          UCPRS   \n",
      "2117   9.617681   4.433620 -0.009402 -0.155330  0.731107          UCPRS   \n",
      "2118  17.625736   7.972817  0.045440 -0.203509  0.661808          UCPRS   \n",
      "\n",
      "      experiment  replicate  \n",
      "0       PBRS2021          1  \n",
      "1       PBRS2021          2  \n",
      "2       PBRS2022          1  \n",
      "3       PBRS2022          2  \n",
      "4      UCPRS2021          1  \n",
      "...          ...        ...  \n",
      "2114    PBRS2022          2  \n",
      "2115   UCPRS2021          1  \n",
      "2116   UCPRS2021          2  \n",
      "2117   UCPRS2022          1  \n",
      "2118   UCPRS2022          2  \n",
      "\n",
      "[2111 rows x 44 columns]\n"
     ]
    }
   ],
   "source": [
    "#create unique experiment term\n",
    "BioMaster['location_name']=BioMaster['location'].apply(lambda x: \"UCPRS\" if x > 1 else \"PBRS\")\n",
    "BioMaster[\"experiment\"]=BioMaster[\"location_name\"] + BioMaster[\"year\"].astype(str)\n",
    "#create a replicate column\n",
    "BioMaster['replicate']=BioMaster['PBGID'].apply(lambda x: 2 if x > 1999 else 1)\n",
    "print(BioMaster)"
   ]
  },
  {
   "cell_type": "code",
   "execution_count": 5,
   "metadata": {},
   "outputs": [],
   "source": [
    "BioMaster.to_csv(r\"C:\\Users\\csnewma2\\Desktop\\script2\\Full_VI.csv\",',', index=False)"
   ]
  }
 ],
 "metadata": {
  "kernelspec": {
   "display_name": "Python 3 (ipykernel)",
   "language": "python",
   "name": "python3"
  },
  "language_info": {
   "codemirror_mode": {
    "name": "ipython",
    "version": 3
   },
   "file_extension": ".py",
   "mimetype": "text/x-python",
   "name": "python",
   "nbconvert_exporter": "python",
   "pygments_lexer": "ipython3",
   "version": "3.9.13"
  }
 },
 "nbformat": 4,
 "nbformat_minor": 5
}
